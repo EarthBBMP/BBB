{
 "cells": [
  {
   "cell_type": "code",
   "execution_count": 4,
   "metadata": {},
   "outputs": [],
   "source": [
    "import numpy as np\n",
    "import matplotlib.pyplot as plt\n",
    "import scipy.ndimage as ndi\n",
    "from scipy.spatial.transform import Rotation as R"
   ]
  },
  {
   "cell_type": "code",
   "execution_count": 5,
   "metadata": {},
   "outputs": [],
   "source": [
    "\"\"\"\n",
    "Function: rotate_matrix\n",
    "    Arg: matrix want to rotate, degree in degree\n",
    "    Return: rotated matrix\n",
    "\"\"\"\n",
    "def rotation_matrix(matrix, degree):\n",
    "    deg = np.radians(degree)\n",
    "    rotation_operation = np.array([[np.cos(deg), -np.sin(deg)], [np.sin(deg), np.cos(deg)]])\n",
    "    product = rotation_operation @ matrix\n",
    "    return product\n"
   ]
  },
  {
   "cell_type": "markdown",
   "metadata": {},
   "source": [
    "# Goal \n",
    "Perform matrix operation (rotation)"
   ]
  },
  {
   "cell_type": "code",
   "execution_count": 6,
   "metadata": {},
   "outputs": [
    {
     "data": {
      "image/png": "[encoded data removed]",
      "text/plain": [
       "<Figure size 640x480 with 1 Axes>"
      ]
     },
     "metadata": {},
     "output_type": "display_data"
    }
   ],
   "source": [
    "# initiate vector 2i + 3j\n",
    "vector_in_2d = np.array([[2], [3]])\n",
    "vector_in_2d.shape\n",
    "\n",
    "# rotate vector by 90 degrees\n",
    "r_vector_in_2d = rotation_matrix(vector_in_2d, 90)\n",
    "\n",
    "fig, ax = plt.subplots()\n",
    "ax.quiver(\n",
    "    0, 0, vector_in_2d[0], vector_in_2d[1], angles=\"xy\", scale_units=\"xy\", scale=1\n",
    ")\n",
    "ax.quiver(\n",
    "    0, 0, r_vector_in_2d[0], r_vector_in_2d[1], angles=\"xy\", scale_units=\"xy\", scale=1, color = 'r'\n",
    ")\n",
    "\n",
    "ax.set_aspect('equal')\n",
    "ax.set_xlim(-5, 5)\n",
    "ax.set_ylim(-5, 5)\n",
    "ax.grid(True)\n",
    "plt.show()"
   ]
  },
  {
   "cell_type": "code",
   "execution_count": null,
   "metadata": {},
   "outputs": [],
   "source": []
  }
 ],
 "metadata": {
  "kernelspec": {
   "display_name": "BBB-YiImbmiN",
   "language": "python",
   "name": "python3"
  },
  "language_info": {
   "codemirror_mode": {
    "name": "ipython",
    "version": 3
   },
   "file_extension": ".py",
   "mimetype": "text/x-python",
   "name": "python",
   "nbconvert_exporter": "python",
   "pygments_lexer": "ipython3",
   "version": "3.12.4"
  }
 },
 "nbformat": 4,
 "nbformat_minor": 2
}
